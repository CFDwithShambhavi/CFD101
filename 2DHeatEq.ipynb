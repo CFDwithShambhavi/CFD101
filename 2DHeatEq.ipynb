{
 "cells": [
  {
   "cell_type": "code",
   "execution_count": 255,
   "metadata": {
    "collapsed": true
   },
   "outputs": [],
   "source": [
    "import plotly.plotly as py\n",
    "import plotly.graph_objs as go\n",
    "import numpy as np"
   ]
  },
  {
   "cell_type": "code",
   "execution_count": 269,
   "metadata": {
    "collapsed": true
   },
   "outputs": [],
   "source": [
    "def temperature2D(k = 1.0, row = 0.0, cp = 0.0, s = 1000.0e3, t = 1e2, delta_t = 1.0, e = 1e-3, temp = 100.0, \\\n",
    "                  q = 500.0e3, x_len = 0.4, y_len = 0.4, delta_x = 0.04, delta_y = 0.04):\n",
    "    # setting up 2D grid\n",
    "    x_dim    = int(x_len / delta_x)\n",
    "    y_dim    = int(y_len / delta_y)\n",
    "    grid_dim = (x_dim + 2, y_dim + 2) # grid dimensions with ghost cells\n",
    "\n",
    "    T_grid = np.zeros((grid_dim))     # temperature grid with ghost cells\n",
    "\n",
    "    # since flux at right wall is given, the temp. diff. at left side inner grid \n",
    "    # point and outer grid point can be calculated to satisfy the BC at left wall\n",
    "    delta_T = q * delta_x / k\n",
    "\n",
    "    # initialising the grid according to BCs\n",
    "    T_grid[: 2, :] = 100.0\n",
    "    T_grid[1: -1, 0] = T_grid[1: -1, 1] + delta_T\n",
    "    T_grid[-1, :] = T_grid[-2, :]\n",
    "\n",
    "    # extracting inner cells T values\n",
    "    T_in_vals = T_grid[1: -1, 1: -1]\n",
    "    \n",
    "    # creating data structures for aP, aE, aW, aN, aS and b, a FVM representation\n",
    "    aP = np.zeros((x_dim, y_dim))\n",
    "    aP_0 = np.zeros((x_dim, y_dim))\n",
    "    aE = np.zeros((x_dim, y_dim))\n",
    "    aW = np.zeros((x_dim, y_dim))\n",
    "    aN = np.zeros((x_dim, y_dim))\n",
    "    aS = np.zeros((x_dim, y_dim))\n",
    "    b = np.zeros((x_dim, y_dim))\n",
    "\n",
    "    # calculating aE, aW, aN, aS, aP_0 and aP for all the inner points\n",
    "    aE[:, : -1] = k * delta_y / delta_x\n",
    "    aW[:, 1 :] = k * delta_y / delta_x\n",
    "    aN[1 :, :] = k * delta_x / delta_y\n",
    "    aS[: -1, :] = k * delta_x / delta_y\n",
    "\n",
    "    aP_0[:, :] = row * cp * delta_x * delta_y / delta_t\n",
    "\n",
    "    aP[:, :] = aE[:, :] + aW[:, :] + aN[:, :] + aS[:, :] + aP_0[:, :]\n",
    "\n",
    "    # calculatiing source for all the inner points\n",
    "    b[:, :] = s * delta_x * delta_y\n",
    "    \n",
    "    n = 0\n",
    "    # solving for T in the 2D grid until convergence\n",
    "    while True:\n",
    "        n += 1\n",
    "        # Re-arranging the equations in the form: -aNUN + aPUP - aSUS = u_source, where u_source = aEUE + aWUW + b\n",
    "        # After re-arranging in the above form, equations are solved using TDMA scheme for every North-South direction\n",
    "        # in the grid, sweeping from West to East.\n",
    "        T_vals = T_in_vals.copy()\n",
    "        T_source = np.zeros(y_dim)\n",
    "\n",
    "        for cols in range(0, y_dim):\n",
    "\n",
    "            # constructing T_tdma\n",
    "            T_tdma = np.diag(aP[:, cols], k=0) + np.diag(-aN[1:, cols], k=-1) +\\\n",
    "                     np.diag(-aS[: -1, cols], k=1)\n",
    "            if cols == 0:\n",
    "                T_source[:] = b[:, cols] + aE[:, cols + 1] * T_in_vals[:, cols + 1]\n",
    "            elif cols == y_dim - 1:\n",
    "                T_source[:] = b[:, cols] + aW[:, cols - 1] * T_in_vals[:, cols - 1]\n",
    "            else:\n",
    "                T_source[:] = b[:, cols] + aE[:, cols + 1] * T_in_vals[:, cols + 1] +\\\n",
    "                              aW[:, cols - 1] * T_in_vals[:, cols - 1]\n",
    "\n",
    "            # from BC:\n",
    "            T_tdma[0, :] = 0.0\n",
    "            T_tdma[0, 0] = 1.0\n",
    "            T_source[0]  = temp\n",
    "\n",
    "            # solving for T:\n",
    "            T_solution = np.linalg.solve(T_tdma, T_source)\n",
    "\n",
    "            T_in_vals[:, cols] = T_solution[:]\n",
    "\n",
    "        residue = abs(T_vals[:, :] - T_in_vals[:, :])\n",
    "        #print('************ Residue **************', '\\n')\n",
    "        #print(np.sum(residue), '\\n')\n",
    "        if np.sum(residue) < e:\n",
    "            print('#### Convergence in ', n, ' iterations ####')\n",
    "            break\n",
    "    \n",
    "    # updating T grid with solution\n",
    "    T_grid[1: -1, 1: -1] = T_in_vals[:, :]\n",
    "    \n",
    "    # imposing BCs on updated T grid\n",
    "    T_grid[: 2, :] = 100.0\n",
    "    T_grid[1: -1, 0] = T_grid[1: -1, 1] + delta_T\n",
    "    T_grid[-1, :] = T_grid[-2, :]\n",
    "    T_grid[:, -1] = T_grid[:, -2]\n",
    "    \n",
    "    # x and y axis data\n",
    "    x = np.linspace(0., x_len, x_dim)\n",
    "    y = np.linspace(0., y_len, y_dim)\n",
    "    \n",
    "    return T_grid, T_in_vals, x, y"
   ]
  },
  {
   "cell_type": "code",
   "execution_count": 275,
   "metadata": {
    "collapsed": true
   },
   "outputs": [],
   "source": [
    "def plot_2D_T_data(T_data, x_, y_):\n",
    "    # plotting 2D data\n",
    "    data = [\n",
    "    go.Contour(\n",
    "        z=T_data,\n",
    "        x=x_,\n",
    "        y=y_\n",
    "    )]\n",
    "    \n",
    "    return data"
   ]
  },
  {
   "cell_type": "code",
   "execution_count": 276,
   "metadata": {},
   "outputs": [
    {
     "name": "stdout",
     "output_type": "stream",
     "text": [
      "#### Convergence in  123  iterations ####\n"
     ]
    }
   ],
   "source": [
    "T_data, T_innerData, x, y = temperature2D(k = 1.0, row = 0.0, cp = 0.0, s = 1000.0e3, t = 1e2, \\\n",
    "                                                 delta_t = 1.0, e = 1e-3, temp = 100.0, q = 500.0e3, x_len = 0.4, \\\n",
    "                                                 y_len = 0.4, delta_x = 0.04, delta_y = 0.04)"
   ]
  },
  {
   "cell_type": "code",
   "execution_count": 277,
   "metadata": {},
   "outputs": [
    {
     "data": {
      "text/html": [
       "<iframe id=\"igraph\" scrolling=\"no\" style=\"border:none;\" seamless=\"seamless\" src=\"https://plot.ly/~SNandan/36.embed\" height=\"525px\" width=\"100%\"></iframe>"
      ],
      "text/plain": [
       "<plotly.tools.PlotlyDisplay object>"
      ]
     },
     "execution_count": 277,
     "metadata": {},
     "output_type": "execute_result"
    }
   ],
   "source": [
    "py.iplot(plot_2D_T_data(T_innerData, x, y))"
   ]
  },
  {
   "cell_type": "code",
   "execution_count": null,
   "metadata": {
    "collapsed": true
   },
   "outputs": [],
   "source": []
  }
 ],
 "metadata": {
  "kernelspec": {
   "display_name": "Python 3",
   "language": "python",
   "name": "python3"
  },
  "language_info": {
   "codemirror_mode": {
    "name": "ipython",
    "version": 3
   },
   "file_extension": ".py",
   "mimetype": "text/x-python",
   "name": "python",
   "nbconvert_exporter": "python",
   "pygments_lexer": "ipython3",
   "version": "3.6.1"
  }
 },
 "nbformat": 4,
 "nbformat_minor": 2
}
