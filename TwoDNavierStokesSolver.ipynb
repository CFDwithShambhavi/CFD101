{
 "cells": [
  {
   "cell_type": "code",
   "execution_count": null,
   "metadata": {
    "collapsed": true
   },
   "outputs": [],
   "source": [
    "import numpy as np"
   ]
  },
  {
   "cell_type": "code",
   "execution_count": 18,
   "metadata": {},
   "outputs": [
    {
     "name": "stdout",
     "output_type": "stream",
     "text": [
      "13\n"
     ]
    }
   ],
   "source": [
    "analysis = '2D'\n",
    "length = 10.0  # in meter\n",
    "row = 2.0\n",
    "mu = 1.0\n",
    "g = 9.8\n",
    "delta_t = 1.0\n",
    "\n",
    "u_grid_dim = (5, 4)\n",
    "u_rows, u_cols = u_grid_dim\n",
    "v_grid_dim = (u_grid_dim[1], u_grid_dim[0])\n",
    "v_rows, v_vols = v_grid_dim\n",
    "p_grid_dim = (u_grid_dim[0], u_grid_dim[0])\n",
    "p_rows, p_cols = p_grid_dim\n",
    "\n",
    "no_of_cv = (u_rows + u_cols - 3) / 2\n",
    "delta_x = length / no_of_cv\n",
    "delta_y = length / no_of_cv\n",
    "\n",
    "rows = u_rows + u_cols\n",
    "cols = u_rows + u_cols\n",
    "\n",
    "matrix = np.zeros((rows, cols))\n",
    "\n",
    "print(matrix"
   ]
  },
  {
   "cell_type": "code",
   "execution_count": null,
   "metadata": {},
   "outputs": [
    {
     "name": "stdout",
     "output_type": "stream",
     "text": [
      "[[ 11.  76.   0.   0.   0.   0.   0.   0.   0.   0.   0.  11.   2.]\n",
      " [  0.   0.   0.   0.   0.   0.   0.   0.   0.   0.   0.   0.   0.]\n",
      " [ 11.  76.   0.   0.   0.   0.   0.   0.   0.   0.   0.  11.   2.]\n",
      " [  0.   0.   0.   0.   0.   0.   0.   0.   0.   0.   0.   0.   0.]\n",
      " [ 11.  76.   0.   0.   0.   0.   0.   0.   0.   0.   0.  11.   2.]\n",
      " [  0.   0.   0.   0.   0.   0.   0.   0.   0.   0.   0.   0.   0.]\n",
      " [ 11.  76.   0.   0.   0.   0.   0.   0.   0.   0.   0.  11.   2.]\n",
      " [  0.   0.   0.   0.   0.   0.   0.   0.   0.   0.   0.   0.   0.]\n",
      " [ 11.  76.   0.   0.   0.   0.   0.   0.   0.   0.   0.  11.   2.]\n",
      " [  0.   0.   0.   0.   0.   0.   0.   0.   0.   0.   0.   0.   0.]\n",
      " [ 11.  76.   0.   0.   0.   0.   0.   0.   0.   0.   0.  11.   2.]\n",
      " [  0.   0.   0.   0.   0.   0.   0.   0.   0.   0.   0.   0.   0.]\n",
      " [ 11.  76.   0.   0.   0.   0.   0.   0.   0.   0.   0.  11.   2.]]\n"
     ]
    }
   ],
   "source": [
    "# given B.Cs.\n",
    "inlet_u = ('given', 76.0)\n",
    "outlet_u = ('not_given', 11.0)\n",
    "inlet_v = ('not_given', 5.0)\n",
    "outlet_v = ('not_given', 0.0)\n",
    "inlet_p = ('given', 12.0)\n",
    "outlet_p = ('not_given', 2.0)\n",
    "\n",
    "# prescribing B.Cs. on grid layout\n",
    "# pressure\n",
    "matrix[0::2, 0] = inlet_p[1]  # at inlet\n",
    "matrix[0::2, cols - 1] = outlet_p[1]  # at outlet\n",
    "# u velocity\n",
    "matrix[0::2, 1] = inlet_u[1]  # inlet\n",
    "matrix[0::2, cols - 2] = outlet_u[1]  # outlet\n",
    "# v velocity\n",
    "matrix[1::2, 0] = inlet_v[1]  # inlet\n",
    "matrix[1::2, cols - 1] = outlet_v[1]  # outlet\n",
    "\n",
    "print(matrix)"
   ]
  },
  {
   "cell_type": "code",
   "execution_count": 65,
   "metadata": {},
   "outputs": [
    {
     "name": "stdout",
     "output_type": "stream",
     "text": [
      "[[ 1.  1.  1.  1.  1.  0.]\n",
      " [ 1.  1.  1.  1.  1.  0.]\n",
      " [ 1.  1.  1.  1.  1.  0.]\n",
      " [ 1.  1.  1.  1.  1.  0.]\n",
      " [ 1.  1.  1.  1.  1.  0.]\n",
      " [ 1.  1.  1.  1.  1.  0.]\n",
      " [ 1.  1.  1.  1.  1.  0.]] \n",
      "\n",
      "[[  0.  12.  12.  12.  12.  12.]\n",
      " [  0.  12.  12.  12.  12.  12.]\n",
      " [  0.  12.  12.  12.  12.  12.]\n",
      " [  0.  12.  12.  12.  12.  12.]\n",
      " [  0.  12.  12.  12.  12.  12.]\n",
      " [  0.  12.  12.  12.  12.  12.]\n",
      " [  0.  12.  12.  12.  12.  12.]] \n",
      "\n",
      "[[ 0.  0.  0.  0.  0.  0.]\n",
      " [ 1.  1.  1.  1.  1.  1.]\n",
      " [ 1.  1.  1.  1.  1.  1.]\n",
      " [ 1.  1.  1.  1.  1.  1.]\n",
      " [ 1.  1.  1.  1.  1.  1.]\n",
      " [ 1.  1.  1.  1.  1.  1.]\n",
      " [ 1.  1.  1.  1.  1.  1.]] \n",
      "\n",
      "[[ 12.  12.  12.  12.  12.  12.]\n",
      " [ 12.  12.  12.  12.  12.  12.]\n",
      " [ 12.  12.  12.  12.  12.  12.]\n",
      " [ 12.  12.  12.  12.  12.  12.]\n",
      " [ 12.  12.  12.  12.  12.  12.]\n",
      " [ 12.  12.  12.  12.  12.  12.]\n",
      " [  0.   0.   0.   0.   0.   0.]] \n",
      "\n",
      "[[ 15.  16.  16.  16.  16.   4.]\n",
      " [ 27.  28.  28.  28.  28.  16.]\n",
      " [ 27.  28.  28.  28.  28.  16.]\n",
      " [ 27.  28.  28.  28.  28.  16.]\n",
      " [ 27.  28.  28.  28.  28.  16.]\n",
      " [ 27.  28.  28.  28.  28.  16.]\n",
      " [ 26.  27.  27.  27.  27.  15.]] \n",
      "\n",
      "[[ 19.6  19.6  19.6  19.6  19.6  19.6]\n",
      " [ 19.6  19.6  19.6  19.6  19.6  19.6]\n",
      " [ 19.6  19.6  19.6  19.6  19.6  19.6]\n",
      " [ 19.6  19.6  19.6  19.6  19.6  19.6]\n",
      " [ 19.6  19.6  19.6  19.6  19.6  19.6]\n",
      " [ 19.6  19.6  19.6  19.6  19.6  19.6]\n",
      " [ 19.6  19.6  19.6  19.6  19.6  19.6]]\n"
     ]
    }
   ],
   "source": [
    "# u velocity coefficients\n",
    "Fe = np.zeros(u_grid_dim)\n",
    "Fw = np.zeros(u_grid_dim)\n",
    "Fn = np.zeros(u_grid_dim)\n",
    "Fs = np.zeros(u_grid_dim)\n",
    "De = np.zeros(u_grid_dim)\n",
    "Dw = np.zeros(u_grid_dim)\n",
    "Dn = np.zeros(u_grid_dim)\n",
    "Ds = np.zeros(u_grid_dim)\n",
    "aP_o = np.zeros(u_grid_dim)\n",
    "delta_p = np.zeros(u_grid_dim)\n",
    "\n",
    "zero = np.zeros(u_grid_dim)\n",
    "\n",
    "Fw[:, 1:] = row / 2.0 * (matrix[0::2, 3::2] + matrix[0::2, 1:cols - 2:2])\n",
    "Fe[:, 0:u_cols - 1] = row / 2.0 * (matrix[0::2, 1:cols - 2:2] + matrix[0::2, 3::2])\n",
    "Fn[1:, :] = row / 2.0 * (matrix[2::2, 1::2] + matrix[0:cols - 1:2, 1::2])\n",
    "Fs[0:u_rows - 1, :] = row / 2.0 * (matrix[0:cols - 1:2, 1::2] + matrix[2::2, 1::2])\n",
    "\n",
    "De[:, 0:u_cols - 1] = mu / delta_x\n",
    "Dw[:, 1:] = mu / delta_x\n",
    "Dn[1:, :] = mu / delta_y\n",
    "Ds[0:u_rows - 1, :] = mu / delta_y\n",
    "\n",
    "delta_p = (matrix[0::2, 0:cols - 1:2] - matrix[0::2, 2::2]) / delta_x\n",
    "b = delta_p + row * g\n",
    "\n",
    "aE = (De + np.fmax(-Fe, zero)) / delta_x\n",
    "aW = (Dw + np.fmax(Fw, zero)) / delta_x\n",
    "aN = (Dn + np.fmax(-Fn, zero)) / delta_y\n",
    "aS = (Ds + np.fmax(Fs, zero)) / delta_y\n",
    "aP_o[:, :] = row / delta_t\n",
    "\n",
    "aP = aP_o + np.fmax(Fe, zero) / delta_x + np.fmax(-Fw, zero) / delta_x + np.fmax(Fn, zero) / delta_y + \\\n",
    "    + np.fmax(-Fs, zero) / delta_y + De / delta_x + Dw / delta_x + Dn / delta_y + Ds / delta_y\n",
    "\n",
    "print(aE, '\\n')\n",
    "print(aW, '\\n')\n",
    "print(aN, '\\n')\n",
    "print(aS, '\\n')\n",
    "print(aP, '\\n')\n",
    "print(b)\n"
   ]
  },
  {
   "cell_type": "code",
   "execution_count": 89,
   "metadata": {},
   "outputs": [
    {
     "name": "stdout",
     "output_type": "stream",
     "text": [
      "[[ 1.50779623  1.50779623  1.50937789  1.53304379  1.88634245  7.16211415]\n",
      " [ 1.50779623  1.50779623  1.50937789  1.53304379  1.88634245  7.16211415]\n",
      " [ 1.50779623  1.50779623  1.50937789  1.53304379  1.88634245  7.16211415]\n",
      " [ 1.50779623  1.50779623  1.50937789  1.53304379  1.88634245  7.16211415]\n",
      " [ 1.50779623  1.50779623  1.50937789  1.53304379  1.88634245  7.16211415]\n",
      " [ 1.50779623  1.50779623  1.50937789  1.53304379  1.88634245  7.16211415]\n",
      " [ 1.50779623  1.50779623  1.50937789  1.53304379  1.88634245  7.16211415]] \n",
      "\n",
      "[ 7.16211415  7.16211415  7.16211415  7.16211415  7.16211415  7.16211415\n",
      "  7.16211415]\n"
     ]
    }
   ],
   "source": [
    "# Re-arranging the equations in the form: -aEUE + aPUP - aSUS = u_source, where u_source = aEUE + aWUW + b\n",
    "# After re-arranging in the above form, equations are solved using TDMA scheme for every North-South direction in the grid,\n",
    "# sweeping from West to East.\n",
    "\n",
    "u_values = matrix[0::2, 1::2]\n",
    "\n",
    "while True:\n",
    "\n",
    "    u_vals = u_values.copy()\n",
    "    u_source = np.zeros(u_rows)\n",
    "\n",
    "    for col in range(0, u_cols):\n",
    "\n",
    "        tdma = np.diag(aP[:, col], k=0) + np.diag(-aN[1:, col], k=1) + np.diag(-aS[0:u_rows - 1, col], k=-1)\n",
    "        if col == 0:\n",
    "            u_source[:] = b[:, col] + u_values[:, col + 1]\n",
    "        elif col == u_cols - 1:\n",
    "            u_source[:] = b[:, col] + u_values[:, col - 1]\n",
    "        else:\n",
    "            u_source[:] = b[:, col] + u_values[:, col + 1] + u_values[:, col - 1]\n",
    "\n",
    "        # implementing u boundary conditions on u-grid\n",
    "        if inlet_u[0] == 'given' and col == 0 or outlet_u[0] == 'given' and col == u_cols - 1:\n",
    "            tdma[:] = 0.0\n",
    "            I = np.ones(u_rows)\n",
    "            tdma += np.diag(I, k=0)\n",
    "            if col == 0:\n",
    "                u_source[:] = inlet_u[1]\n",
    "            else:\n",
    "                u_source[:] = outlet_u[1]\n",
    "\n",
    "        u_solution = np.linalg.solve(tdma, u_source)\n",
    "        u_values[:, col] = u_solution[:]\n",
    "\n",
    "    residue = abs(u_vals[:] - u_values[:])\n",
    "    print('************ Residue **************', '\\n')\n",
    "    print(residue, '\\n')\n",
    "    if residue[residue < 0.01].shape == (u_rows * u_cols,):\n",
    "        break\n",
    "\n",
    "print('*************** u-velocity solution ****************')\n",
    "print(u_values, '\\n')\n",
    "# print(u_solution)\n",
    "# print(tdma, ' = ', source)"
   ]
  },
  {
   "cell_type": "code",
   "execution_count": null,
   "metadata": {},
   "outputs": [
    {
     "name": "stdout",
     "output_type": "stream",
     "text": [
      "[[ 1.          1.50779623  1.          1.50779623  1.          1.50937789\n",
      "   1.          1.53304379  1.          1.88634245  1.          7.16211415\n",
      "   1.        ]\n",
      " [ 3.3         0.          3.3         0.          3.3         0.          3.3\n",
      "   0.          3.3         0.          3.3         0.          3.3       ]\n",
      " [ 1.          1.50779623  1.          1.50779623  1.          1.50937789\n",
      "   1.          1.53304379  1.          1.88634245  1.          7.16211415\n",
      "   1.        ]\n",
      " [ 3.3         0.          3.3         0.          3.3         0.          3.3\n",
      "   0.          3.3         0.          3.3         0.          3.3       ]\n",
      " [ 1.          1.50779623  1.          1.50779623  1.          1.50937789\n",
      "   1.          1.53304379  1.          1.88634245  1.          7.16211415\n",
      "   1.        ]\n",
      " [ 3.3         0.          3.3         0.          3.3         0.          3.3\n",
      "   0.          3.3         0.          3.3         0.          3.3       ]\n",
      " [ 1.          1.50779623  1.          1.50779623  1.          1.50937789\n",
      "   1.          1.53304379  1.          1.88634245  1.          7.16211415\n",
      "   1.        ]\n",
      " [ 3.3         0.          3.3         0.          3.3         0.          3.3\n",
      "   0.          3.3         0.          3.3         0.          3.3       ]\n",
      " [ 1.          1.50779623  1.          1.50779623  1.          1.50937789\n",
      "   1.          1.53304379  1.          1.88634245  1.          7.16211415\n",
      "   1.        ]\n",
      " [ 3.3         0.          3.3         0.          3.3         0.          3.3\n",
      "   0.          3.3         0.          3.3         0.          3.3       ]\n",
      " [ 1.          1.50779623  1.          1.50779623  1.          1.50937789\n",
      "   1.          1.53304379  1.          1.88634245  1.          7.16211415\n",
      "   1.        ]\n",
      " [ 3.3         0.          3.3         0.          3.3         0.          3.3\n",
      "   0.          3.3         0.          3.3         0.          3.3       ]\n",
      " [ 1.          1.50779623  1.          1.50779623  1.          1.50937789\n",
      "   1.          1.53304379  1.          1.88634245  1.          7.16211415\n",
      "   1.        ]]\n"
     ]
    }
   ],
   "source": [
    ""
   ]
  },
  {
   "cell_type": "code",
   "execution_count": 11,
   "metadata": {},
   "outputs": [
    {
     "name": "stdout",
     "output_type": "stream",
     "text": [
      "[[ 0.  0.  0.]]\n"
     ]
    }
   ],
   "source": [
    ""
   ]
  },
  {
   "cell_type": "code",
   "execution_count": null,
   "metadata": {
    "collapsed": true
   },
   "outputs": [],
   "source": [
    ""
   ]
  }
 ],
 "metadata": {
  "kernelspec": {
   "display_name": "Python 3",
   "language": "python",
   "name": "python3"
  },
  "language_info": {
   "codemirror_mode": {
    "name": "ipython",
    "version": 3.0
   },
   "file_extension": ".py",
   "mimetype": "text/x-python",
   "name": "python",
   "nbconvert_exporter": "python",
   "pygments_lexer": "ipython3",
   "version": "3.6.1"
  }
 },
 "nbformat": 4,
 "nbformat_minor": 0
}