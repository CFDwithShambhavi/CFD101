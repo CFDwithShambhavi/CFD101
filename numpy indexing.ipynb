{
 "cells": [
  {
   "cell_type": "code",
   "execution_count": 2,
   "metadata": {
    "collapsed": true
   },
   "outputs": [],
   "source": [
    "import numpy as np"
   ]
  },
  {
   "cell_type": "code",
   "execution_count": 18,
   "metadata": {},
   "outputs": [
    {
     "name": "stdout",
     "output_type": "stream",
     "text": [
      "13\n"
     ]
    }
   ],
   "source": [
    "length = 10.0 # in meter\n",
    "\n",
    "x_grids = 1\n",
    "y_grids = 1\n",
    "\n",
    "no_of_cv_in_grid_layout = (5, 5)\n",
    "x_cv, y_cv = no_of_cv_in_grid_layout\n",
    "\n",
    "if x_cv != 0 and y_cv != 0:\n",
    "    x_grids = x_cv * 2 + 3\n",
    "    y_grids = y_cv * 2 + 3\n",
    "\n",
    "elif x_cv == 0:\n",
    "    x_grids = y_cv * 2 + 3\n",
    "    \n",
    "else:\n",
    "    y_grids = x_cv * 2 + 3\n",
    "\n",
    "matrix = np.zeros((x_grids, y_grids))\n",
    "\n",
    "l = len(matrix[0]) # length of the grid array\n",
    "delta_x = length / l\n",
    "delta_y = delta_x\n",
    "if y_cv\n",
    "\n",
    "print(l)"
   ]
  },
  {
   "cell_type": "code",
   "execution_count": null,
   "metadata": {},
   "outputs": [
    {
     "name": "stdout",
     "output_type": "stream",
     "text": [
      "[[ 11.  76.   0.   0.   0.   0.   0.   0.   0.   0.   0.  11.   2.]\n",
      " [  0.   0.   0.   0.   0.   0.   0.   0.   0.   0.   0.   0.   0.]\n",
      " [ 11.  76.   0.   0.   0.   0.   0.   0.   0.   0.   0.  11.   2.]\n",
      " [  0.   0.   0.   0.   0.   0.   0.   0.   0.   0.   0.   0.   0.]\n",
      " [ 11.  76.   0.   0.   0.   0.   0.   0.   0.   0.   0.  11.   2.]\n",
      " [  0.   0.   0.   0.   0.   0.   0.   0.   0.   0.   0.   0.   0.]\n",
      " [ 11.  76.   0.   0.   0.   0.   0.   0.   0.   0.   0.  11.   2.]\n",
      " [  0.   0.   0.   0.   0.   0.   0.   0.   0.   0.   0.   0.   0.]\n",
      " [ 11.  76.   0.   0.   0.   0.   0.   0.   0.   0.   0.  11.   2.]\n",
      " [  0.   0.   0.   0.   0.   0.   0.   0.   0.   0.   0.   0.   0.]\n",
      " [ 11.  76.   0.   0.   0.   0.   0.   0.   0.   0.   0.  11.   2.]\n",
      " [  0.   0.   0.   0.   0.   0.   0.   0.   0.   0.   0.   0.   0.]\n",
      " [ 11.  76.   0.   0.   0.   0.   0.   0.   0.   0.   0.  11.   2.]]\n"
     ]
    }
   ],
   "source": [
    "# given B.Cs.\n",
    "inlet_u = ('given', 76.0)\n",
    "outlet_u = ('not_given', 11.0)\n",
    "\n",
    "inlet_v = ('not_given', 0.0)\n",
    "\n",
    "outlet_v = ('not_given', 0.0)\n",
    "inlet_p = ('given', 11.0)\n",
    "outlet_p = ('not_given', 2.0)\n",
    "\n",
    "# implementing B.Cs. on grid layout\n",
    "# pressure\n",
    "matrix[0::2, 0] = inlet_p[1] # at inlet\n",
    "matrix[0::2, l-1] = outlet_p[1] # at outlet\n",
    "# u velocity\n",
    "matrix[0::2, 1] = inlet_u[1] # inlet\n",
    "matrix[0::2, l-2] = outlet_u[1] # outlet\n",
    "# v velocity\n",
    "matrix[1::2, 0] = inlet_v[1] # inlet\n",
    "matrix[1::2, l-1] = outlet_v[1] # outlet\n",
    "\n",
    "print(matrix)"
   ]
  },
  {
   "cell_type": "code",
   "execution_count": 65,
   "metadata": {},
   "outputs": [
    {
     "name": "stdout",
     "output_type": "stream",
     "text": [
      "[[ 1.  1.  1.  1.  1.  0.]\n",
      " [ 1.  1.  1.  1.  1.  0.]\n",
      " [ 1.  1.  1.  1.  1.  0.]\n",
      " [ 1.  1.  1.  1.  1.  0.]\n",
      " [ 1.  1.  1.  1.  1.  0.]\n",
      " [ 1.  1.  1.  1.  1.  0.]\n",
      " [ 1.  1.  1.  1.  1.  0.]] \n",
      "\n",
      "[[  0.  12.  12.  12.  12.  12.]\n",
      " [  0.  12.  12.  12.  12.  12.]\n",
      " [  0.  12.  12.  12.  12.  12.]\n",
      " [  0.  12.  12.  12.  12.  12.]\n",
      " [  0.  12.  12.  12.  12.  12.]\n",
      " [  0.  12.  12.  12.  12.  12.]\n",
      " [  0.  12.  12.  12.  12.  12.]] \n",
      "\n",
      "[[ 0.  0.  0.  0.  0.  0.]\n",
      " [ 1.  1.  1.  1.  1.  1.]\n",
      " [ 1.  1.  1.  1.  1.  1.]\n",
      " [ 1.  1.  1.  1.  1.  1.]\n",
      " [ 1.  1.  1.  1.  1.  1.]\n",
      " [ 1.  1.  1.  1.  1.  1.]\n",
      " [ 1.  1.  1.  1.  1.  1.]] \n",
      "\n",
      "[[ 12.  12.  12.  12.  12.  12.]\n",
      " [ 12.  12.  12.  12.  12.  12.]\n",
      " [ 12.  12.  12.  12.  12.  12.]\n",
      " [ 12.  12.  12.  12.  12.  12.]\n",
      " [ 12.  12.  12.  12.  12.  12.]\n",
      " [ 12.  12.  12.  12.  12.  12.]\n",
      " [  0.   0.   0.   0.   0.   0.]] \n",
      "\n",
      "[[ 15.  16.  16.  16.  16.   4.]\n",
      " [ 27.  28.  28.  28.  28.  16.]\n",
      " [ 27.  28.  28.  28.  28.  16.]\n",
      " [ 27.  28.  28.  28.  28.  16.]\n",
      " [ 27.  28.  28.  28.  28.  16.]\n",
      " [ 27.  28.  28.  28.  28.  16.]\n",
      " [ 26.  27.  27.  27.  27.  15.]] \n",
      "\n",
      "[[ 19.6  19.6  19.6  19.6  19.6  19.6]\n",
      " [ 19.6  19.6  19.6  19.6  19.6  19.6]\n",
      " [ 19.6  19.6  19.6  19.6  19.6  19.6]\n",
      " [ 19.6  19.6  19.6  19.6  19.6  19.6]\n",
      " [ 19.6  19.6  19.6  19.6  19.6  19.6]\n",
      " [ 19.6  19.6  19.6  19.6  19.6  19.6]\n",
      " [ 19.6  19.6  19.6  19.6  19.6  19.6]]\n"
     ]
    }
   ],
   "source": [
    "# u velocity coefficients\n",
    "Fe = np.zeros((7,6))\n",
    "Fw = np.zeros((7,6))\n",
    "Fn = np.zeros((7,6))\n",
    "Fs = np.zeros((7,6))\n",
    "De = np.zeros((7,6))\n",
    "Dw = np.zeros((7,6))\n",
    "Dn = np.zeros((7,6))\n",
    "Ds = np.zeros((7,6))\n",
    "aP_o = np.zeros((7,6))\n",
    "delta_p = np.zeros((7,6))\n",
    "\n",
    "zero = np.zeros((7,6))\n",
    "\n",
    "row = 2.0\n",
    "mu = 1.0\n",
    "g = 9.8\n",
    "delta_x = 1.0\n",
    "delta_y = 1.0\n",
    "delta_t = 1.0\n",
    "A = delta_x * delta_y\n",
    "\n",
    "Fw[:,1:] = row / 2.0 * (matrix[0::2, 3::2] + matrix[0::2, 1:11:2])\n",
    "Fe[:,0:5] = row / 2.0 * (matrix[0::2, 1:11:2] + matrix[0::2, 3::2])\n",
    "Fn[1:,:] = row / 2.0 * (matrix[2::2, 1::2] + matrix[0:12:2, 1::2])\n",
    "Fs[0:6,:] = row / 2.0 * (matrix[0:12:2,1::2] + matrix[2::2, 1::2])\n",
    "\n",
    "De[:,0:5] = mu / delta_x\n",
    "Dw[:,1:] = mu / delta_x\n",
    "Dn[1:,:] = mu / delta_y\n",
    "Ds[0:6,:] = mu / delta_y\n",
    "\n",
    "delta_p = (matrix[0::2, 0:12:2] - matrix[0::2, 2::2]) / delta_x\n",
    "b = delta_p + row * g \n",
    "\n",
    "aE = (De + np.fmax(-Fe, zero)) / delta_x\n",
    "aW = (Dw + np.fmax(Fw, zero)) / delta_x\n",
    "aN = (Dn + np.fmax(-Fn, zero)) / delta_y\n",
    "aS = (Ds + np.fmax(Fs, zero)) / delta_y\n",
    "aP_o[:,:] = row / delta_t\n",
    "\n",
    "aP = aP_o + np.fmax(Fe, zero) / delta_x + np.fmax(-Fw, zero) / delta_x + np.fmax(Fn, zero) / delta_y + np.fmax(-Fs, zero) / delta_y + De / delta_x + Dw / delta_x + Dn / delta_y + Ds / delta_y    \n",
    "\n",
    "#ap = row * A / delta_t + \n",
    "#aw[1] = -11.0\n",
    "#for i in np.nditer(aw):\n",
    "    #max(i,0.0)\n",
    "print(aE,'\\n')\n",
    "print(aW,'\\n')\n",
    "print(aN,'\\n')\n",
    "print(aS,'\\n')\n",
    "print(aP,'\\n')\n",
    "print(b)"
   ]
  },
  {
   "cell_type": "code",
   "execution_count": 89,
   "metadata": {},
   "outputs": [
    {
     "name": "stdout",
     "output_type": "stream",
     "text": [
      "[[ 1.50779623  1.50779623  1.50937789  1.53304379  1.88634245  7.16211415]\n",
      " [ 1.50779623  1.50779623  1.50937789  1.53304379  1.88634245  7.16211415]\n",
      " [ 1.50779623  1.50779623  1.50937789  1.53304379  1.88634245  7.16211415]\n",
      " [ 1.50779623  1.50779623  1.50937789  1.53304379  1.88634245  7.16211415]\n",
      " [ 1.50779623  1.50779623  1.50937789  1.53304379  1.88634245  7.16211415]\n",
      " [ 1.50779623  1.50779623  1.50937789  1.53304379  1.88634245  7.16211415]\n",
      " [ 1.50779623  1.50779623  1.50937789  1.53304379  1.88634245  7.16211415]] \n",
      "\n",
      "[ 7.16211415  7.16211415  7.16211415  7.16211415  7.16211415  7.16211415\n",
      "  7.16211415]\n"
     ]
    }
   ],
   "source": [
    "no_of_rows, no_of_colums = aP.shape\n",
    "# B.Cs.\n",
    "inlet_u = (75.0, 'given')\n",
    "inlet_p = (118.0, 'given')\n",
    "outlet_u = (0.0, 'given')\n",
    "outlet_p = (0.0, 'given')\n",
    "# from B.Cs.\n",
    "if \n",
    "u_values = matrix[0::2, 1::2]\n",
    "source = np.zeros(no_of_rows)\n",
    "\n",
    "for col in range(0, no_of_colums):\n",
    "    #col = 5\n",
    "    tdma = np.diag(aP[:, col], k=0) + np.diag(-aN[1:, col], k=1) + np.diag(-aS[0:6, col], k=-1)\n",
    "    if col == 0:\n",
    "        source[:] = b[:, col] + u_values[:, col+1]\n",
    "    elif col == 5:\n",
    "        source[:] = b[:, col] + u_values[:, col-1]\n",
    "    else:\n",
    "        source[:] =  b[:, col] + u_values[:, col+1] + u_values[:, col-1]\n",
    "\n",
    "    #from boundary conditions\n",
    "\n",
    "\n",
    "    u_solution = np.linalg.solve(tdma, source)\n",
    "    u_values[:, col] = u_solution[:]\n",
    "\n",
    "print(u_values, '\\n')\n",
    "print(u_solution)\n",
    "#print(tdma, ' = ', source)"
   ]
  },
  {
   "cell_type": "code",
   "execution_count": 90,
   "metadata": {},
   "outputs": [
    {
     "name": "stdout",
     "output_type": "stream",
     "text": [
      "[[ 1.          1.50779623  1.          1.50779623  1.          1.50937789\n",
      "   1.          1.53304379  1.          1.88634245  1.          7.16211415\n",
      "   1.        ]\n",
      " [ 3.3         0.          3.3         0.          3.3         0.          3.3\n",
      "   0.          3.3         0.          3.3         0.          3.3       ]\n",
      " [ 1.          1.50779623  1.          1.50779623  1.          1.50937789\n",
      "   1.          1.53304379  1.          1.88634245  1.          7.16211415\n",
      "   1.        ]\n",
      " [ 3.3         0.          3.3         0.          3.3         0.          3.3\n",
      "   0.          3.3         0.          3.3         0.          3.3       ]\n",
      " [ 1.          1.50779623  1.          1.50779623  1.          1.50937789\n",
      "   1.          1.53304379  1.          1.88634245  1.          7.16211415\n",
      "   1.        ]\n",
      " [ 3.3         0.          3.3         0.          3.3         0.          3.3\n",
      "   0.          3.3         0.          3.3         0.          3.3       ]\n",
      " [ 1.          1.50779623  1.          1.50779623  1.          1.50937789\n",
      "   1.          1.53304379  1.          1.88634245  1.          7.16211415\n",
      "   1.        ]\n",
      " [ 3.3         0.          3.3         0.          3.3         0.          3.3\n",
      "   0.          3.3         0.          3.3         0.          3.3       ]\n",
      " [ 1.          1.50779623  1.          1.50779623  1.          1.50937789\n",
      "   1.          1.53304379  1.          1.88634245  1.          7.16211415\n",
      "   1.        ]\n",
      " [ 3.3         0.          3.3         0.          3.3         0.          3.3\n",
      "   0.          3.3         0.          3.3         0.          3.3       ]\n",
      " [ 1.          1.50779623  1.          1.50779623  1.          1.50937789\n",
      "   1.          1.53304379  1.          1.88634245  1.          7.16211415\n",
      "   1.        ]\n",
      " [ 3.3         0.          3.3         0.          3.3         0.          3.3\n",
      "   0.          3.3         0.          3.3         0.          3.3       ]\n",
      " [ 1.          1.50779623  1.          1.50779623  1.          1.50937789\n",
      "   1.          1.53304379  1.          1.88634245  1.          7.16211415\n",
      "   1.        ]]\n"
     ]
    }
   ],
   "source": [
    "print(matrix)"
   ]
  },
  {
   "cell_type": "code",
   "execution_count": 11,
   "metadata": {},
   "outputs": [
    {
     "name": "stdout",
     "output_type": "stream",
     "text": [
      "[[ 0.  0.  0.]]\n"
     ]
    }
   ],
   "source": [
    "mat = np.zeros((1,3))\n",
    "print(mat)"
   ]
  },
  {
   "cell_type": "code",
   "execution_count": null,
   "metadata": {
    "collapsed": true
   },
   "outputs": [],
   "source": [
    ""
   ]
  }
 ],
 "metadata": {
  "kernelspec": {
   "display_name": "Python 3",
   "language": "python",
   "name": "python3"
  },
  "language_info": {
   "codemirror_mode": {
    "name": "ipython",
    "version": 3.0
   },
   "file_extension": ".py",
   "mimetype": "text/x-python",
   "name": "python",
   "nbconvert_exporter": "python",
   "pygments_lexer": "ipython3",
   "version": "3.6.1"
  }
 },
 "nbformat": 4,
 "nbformat_minor": 0
}